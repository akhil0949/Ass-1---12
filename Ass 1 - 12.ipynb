{
  "metadata": {
    "language_info": {
      "name": ""
    },
    "kernelspec": {
      "name": "",
      "display_name": ""
    }
  },
  "nbformat_minor": 4,
  "nbformat": 4,
  "cells": [
    {
      "cell_type": "code",
      "source": "Q1. In what modes should the PdfFileReader() and PdfFileWriter() File objects will be opened?\n\nAns: PdfFileReader() method can be opened in read binary mode 'rb' while opening the pdffile and PdfFileWriter() method can be opened by passing 'wb' as argument write binary mode\n",
      "metadata": {},
      "execution_count": null,
      "outputs": []
    },
    {
      "cell_type": "code",
      "source": "Q2. From a PdfFileReader object, how do you get a Page object for page 5?\n\nAns: pdf1.getPage(5) method can be used to get page 5 of pdf",
      "metadata": {},
      "execution_count": null,
      "outputs": []
    },
    {
      "cell_type": "code",
      "source": "Q3. What PdfFileReader variable stores the number of pages in the PDF document?\n\nAns: pdf.numpages() variable stores the number of pages in the pdf document",
      "metadata": {},
      "execution_count": null,
      "outputs": []
    },
    {
      "cell_type": "code",
      "source": "Q4. If a PdfFileReader object’s PDF is encrypted with the password swordfish, what must you do before you can obtain Page objects from it?\n\nAns: pdfwriter.encrypt('swordfish')",
      "metadata": {},
      "execution_count": null,
      "outputs": []
    },
    {
      "cell_type": "code",
      "source": "Q5. What methods do you use to rotate a page?\n\nAns: rotateClockwise(angle) method rotates the pdf page by given angle",
      "metadata": {},
      "execution_count": null,
      "outputs": []
    },
    {
      "cell_type": "code",
      "source": "Q6. What is the difference between a Run object and a Paragraph object?\n\nAns:Run object is associated with inline content like text,pictures or anyother items that are flowed between the block-item boundaries within a paragraph paragraph object has runs attributes that are run objects.It contain a plain paragraph with some bold and some italics\n",
      "metadata": {},
      "execution_count": null,
      "outputs": []
    },
    {
      "cell_type": "code",
      "source": "Q7. How do you obtain a list of Paragraph objects for a Document object that’s stored in a variable named doc?\n\nAns: a pain text with bold and some italics",
      "metadata": {},
      "execution_count": null,
      "outputs": []
    },
    {
      "cell_type": "code",
      "source": "Q8. What type of object has bold, underline, italic, strike, and outline variables?\n\nAns: Run object has bold,underline, italic strike and outline variables\n",
      "metadata": {},
      "execution_count": null,
      "outputs": []
    },
    {
      "cell_type": "code",
      "source": "Q9. What is the difference between False, True, and None for the bold variable?\n\nAns: False means bold is false (boolean value '0')\n\n  True means bold is true boolean 1\n\n  none means where the field takes option list\n",
      "metadata": {},
      "execution_count": null,
      "outputs": []
    },
    {
      "cell_type": "code",
      "source": "Q10. How do you create a Document object for a new Word document?\n\nAns:doc1 = open('document1.docx','rb') # already avaiable document\n\ndoc2 = open(document2.docx','wb') # you can open new document\n",
      "metadata": {},
      "execution_count": null,
      "outputs": []
    },
    {
      "cell_type": "code",
      "source": "Q11. How do you add a paragraph with the text'Hello', there!; to a Document object stored in a variable named doc?\n\nAns:import docx\n\ndoc = docx.Document()\n\ndoc.add_paragraph('Hello, world!')\n\ndoc.save('helloworld.docx')\n",
      "metadata": {},
      "execution_count": null,
      "outputs": []
    },
    {
      "cell_type": "code",
      "source": "Q12. What integers represent the levels of headings available in Word documents?\n\nAns: doc = docx.Document()\n\n doc.add_heading('Header 0', 0)\n\n doc.add_heading('Header 1', 1)\n\n doc.add_heading('Header 2', 2)\n\n doc.add_heading('Header 3', 3)\n\n doc.add_heading('Header 4', 4)\n\n doc.save('headings.docx')",
      "metadata": {},
      "execution_count": null,
      "outputs": []
    }
  ]
}